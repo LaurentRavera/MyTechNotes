{
 "cells": [
  {
   "source": [
    "# Crest factor analysis\n",
    "### 17/02/2020\n",
    "### Laurent @IRAP\n",
    "This Notebook checks the impact of a frequency not aligned with Fs/2**N:"
   ],
   "cell_type": "markdown",
   "metadata": {}
  },
  {
   "cell_type": "code",
   "execution_count": 93,
   "metadata": {},
   "outputs": [],
   "source": [
    "import numpy as np\n",
    "import matplotlib.pyplot as plt\n",
    "from numpy.fft import fft\n",
    "\n",
    "%matplotlib widget\n",
    "\n",
    "# Definition of some constants\n",
    "Fs=19530000 # sampling frequency\n",
    "Fmin=1e6 # minimum carrier frequency\n",
    "Fmax=5e6 # maximum carrier frequency\n",
    "Ncar=40 # Number of carriers\n",
    "\n",
    "# Definition of colors\n",
    "c=['r', 'orange', 'gold', 'darkorchid', 'mediumpurple', 'steelblue', 'b', 'turquoise', 'g', 'gray', 'dark']\n"
   ]
  },
  {
   "cell_type": "code",
   "execution_count": 94,
   "metadata": {},
   "outputs": [],
   "source": [
    "# Computation of crest factor\n",
    "def crest_factor(signal):\n",
    "    peak = abs(signal).max()\n",
    "    return(peak / signal.std())\n"
   ]
  },
  {
   "cell_type": "code",
   "execution_count": 116,
   "metadata": {},
   "outputs": [],
   "source": [
    "# Definition of carrier frequencies\n",
    "def gen_freq(Fmin, Fmax, Fres, Fsigma):\n",
    "    Fstep=(Fmax-Fmin)/Ncar\n",
    "    F=Fmin+Fstep*np.arange(Ncar)+np.random.normal(loc=0, scale=Fsigma, size=Ncar)\n",
    "    F=Fres*np.floor(F/Fres) # quantization\n",
    "    return(F)\n",
    "\n",
    "# Computation of optimised bias signal\n",
    "def make_bias(Npts, Fres, Niter, Fsigma=2e3):\n",
    "    t=np.arange(Npts)/Fs\n",
    "    freq=gen_freq(Fmin, Fmax, Fres, Fsigma)\n",
    "    Cf_tot=0\n",
    "    Cf_opt=np.inf\n",
    "    for i in range(Niter):\n",
    "        bias=np.zeros(Npts)\n",
    "        phase=np.random.rand(Ncar)*2.*np.pi\n",
    "        for i in range(Ncar):\n",
    "            bias+=np.sin(2.*np.pi*freq[i]*t+phase[i])\n",
    "        Cf=crest_factor(bias)\n",
    "        Cf_tot+=Cf\n",
    "        if Cf<Cf_opt:\n",
    "            Cf_opt=Cf\n",
    "            phase_opt=phase\n",
    "    return(Cf_opt, Cf_tot/Niter, bias, freq, phase_opt)\n",
    "\n",
    "# Spectral analisys of a bias signal\n",
    "def spectral(bias, title):\n",
    "    bias_f=abs(fft(bias))\n",
    "    #plt.plot(bias_f)\n",
    "    not_zero=np.where(bias_f != 0)[0]\n",
    "\n",
    "    bias_f_dB=-300*np.ones(len(bias_f))\n",
    "    bias_f_dB[not_zero]=20.*np.log10(bias_f[not_zero])\n",
    "    bias_f_dB-=bias_f_dB.max()\n",
    "    fig = plt.figure(figsize=(9, 7)) \n",
    "    ax = plt.subplot(1,1,1)\n",
    "    ax.plot(bias_f_dB)\n",
    "    ax.set_title(title)\n",
    "    ax.set_ylabel(\"\")\n",
    "    ax.set_ylim(-150,10)\n",
    "    ax.grid(color='k', linestyle=':', linewidth=0.5)\n"
   ]
  },
  {
   "cell_type": "code",
   "execution_count": 117,
   "metadata": {},
   "outputs": [
    {
     "name": "stdout",
     "output_type": "stream",
     "text": [
      "1192.0166015625 18.625259399414062\n"
     ]
    }
   ],
   "source": [
    "print(Fs/2**14, Fs/2**20)\n"
   ]
  },
  {
   "cell_type": "code",
   "execution_count": 118,
   "metadata": {},
   "outputs": [
    {
     "data": {
      "application/vnd.jupyter.widget-view+json": {
       "model_id": "e5a3a4b8e9f34fdfab639c2dddbcdb38",
       "version_major": 2,
       "version_minor": 0
      },
      "text/plain": [
       "Canvas(toolbar=Toolbar(toolitems=[('Home', 'Reset original view', 'home', 'home'), ('Back', 'Back to  previous…"
      ]
     },
     "metadata": {},
     "output_type": "display_data"
    }
   ],
   "source": [
    "Npts=2**20\n",
    "Fres=(Fs/2**14)\n",
    "Cf_opt, _, bias, _, _=make_bias(Npts, Fres, Niter=10, Fsigma=2e3)\n",
    "bias=np.round(2**16*(bias/(bias.max()-bias.min())))\n",
    "spectral(bias, 'Fres=Fs/(2**14)')"
   ]
  },
  {
   "cell_type": "code",
   "execution_count": 138,
   "metadata": {},
   "outputs": [
    {
     "name": "stdout",
     "output_type": "stream",
     "text": [
      "Cf =  3.3326942790726974\n",
      "freqtab=[    \n",
      "1002411.46088, 1101684.09348, 1200956.72607, 1297808.07495, 1399501.99127, 1498774.62387, 1602889.82391, 1697319.88907,     \n",
      "1800224.44725, 1897075.79613, 2002401.63803, 2099252.98691, 2199736.26137, 2301430.17769, 2397070.88470, 2496343.51730,     \n",
      "2596826.79176, 2702152.63367, 2799003.98254, 2894644.68956, 2996338.60588, 3096821.88034, 3197305.15480, 3301420.35484,     \n",
      "3400692.98744, 3501176.26190, 3598027.61078, 3698510.88524, 3792940.95039, 3899477.43416, 3998750.06676, 4096812.05750,     \n",
      "4199716.61568, 4301410.53200, 4400683.16460, 4499955.79720, 4601649.71352, 4702132.98798, 4798984.33685, 4897046.32759 \n",
      "];\n",
      "phitab=[    \n",
      "277.23498,  7.30595, 184.02708, 116.07985, 271.29163, 201.37568, 80.00372, 330.46316,     \n",
      "258.41903, 101.07190, 16.50202, 60.37930, 177.31398, 50.29364, 349.66483, 150.34686,     \n",
      "240.29073, 111.05765, 30.82543, 16.23958, 295.46884, 276.54160, 147.28161, 231.50081,     \n",
      "131.77617, 318.90882, 296.02194, 83.09532, 157.06794, 167.31125, 197.56132, 195.29495,     \n",
      "238.12825, 221.43332, 16.93967, 79.18655, 135.30477, 64.18820, 59.84188, 334.02784 \n",
      "];\n"
     ]
    }
   ],
   "source": [
    "Npts=2**20\n",
    "Fres=(Fs/2**20+Fs/2**14)\n",
    "Cf_opt, _, bias, ftab, phitab=make_bias(Npts, Fres, Niter=10, Fsigma=2e3)\n",
    "bias=np.round(2**16*(bias/(bias.max()-bias.min())))\n",
    "#spectral(bias, 'Fres=Fs/(2**20+2**14)')\n",
    "\n",
    "\n",
    "print(\"Cf = \", Cf_opt)\n",
    "\n",
    "# Printing frequencies\n",
    "print(\"freqtab=[\", end='')\n",
    "nlignes=5\n",
    "ncol=8\n",
    "for ligne in range(nlignes-1):\n",
    "    print(\"    \")\n",
    "    for col in range(ncol):\n",
    "        print(\"{0:8.5f}, \".format(ftab[col+ligne*ncol]), end = '')\n",
    "print(\"    \")\n",
    "for col in range(ncol-1):\n",
    "    print(\"{0:8.5f}, \".format(ftab[col+(nlignes-1)*ncol]), end = '')\n",
    "print(\"{0:8.5f} \".format(ftab[ncol*nlignes-1]))\n",
    "print(\"];\")\n",
    "\n",
    "# Printing phases (deg)\n",
    "phitab=phitab*180/np.pi\n",
    "print(\"phitab=[\", end='')\n",
    "nlignes=5\n",
    "ncol=8\n",
    "for ligne in range(nlignes-1):\n",
    "    print(\"    \")\n",
    "    for col in range(ncol):\n",
    "        print(\"{0:8.5f}, \".format(phitab[col+ligne*ncol]), end = '')\n",
    "print(\"    \")\n",
    "for col in range(ncol-1):\n",
    "    print(\"{0:8.5f}, \".format(phitab[col+(nlignes-1)*ncol]), end = '')\n",
    "print(\"{0:8.5f} \".format(phitab[ncol*nlignes-1]))\n",
    "print(\"];\")\n"
   ]
  },
  {
   "cell_type": "code",
   "execution_count": 137,
   "metadata": {},
   "outputs": [
    {
     "name": "stdout",
     "output_type": "stream",
     "text": [
      "1210.641860961914\n",
      "[0. 0. 0. 0. 0. 0. 0. 0. 0. 0. 0. 0. 0. 0. 0. 0. 0. 0. 0. 0. 0. 0. 0. 0.\n",
      " 0. 0. 0. 0. 0. 0. 0. 0. 0. 0. 0. 0. 0. 0. 0. 0.]\n"
     ]
    }
   ],
   "source": [
    "print(Fres)\n",
    "print(ftab-Fres*(ftab/Fres))"
   ]
  }
 ],
 "metadata": {
  "kernelspec": {
   "display_name": "Python 3",
   "language": "python",
   "name": "python3"
  },
  "language_info": {
   "codemirror_mode": {
    "name": "ipython",
    "version": 3
   },
   "file_extension": ".py",
   "mimetype": "text/x-python",
   "name": "python",
   "nbconvert_exporter": "python",
   "pygments_lexer": "ipython3",
   "version": "3.8.5"
  }
 },
 "nbformat": 4,
 "nbformat_minor": 4
}