{
 "cells": [
  {
   "cell_type": "markdown",
   "metadata": {},
   "source": [
    "# Crest factor analysis\n",
    "### 07/10/2019\n",
    "### Laurent @IRAP\n",
    "This Notebook makes some analysis on the crest factor. Particularly it characterizes the impact of:\n",
    "- The number of carriers\n",
    "- The frequency resolution\n",
    "- The frequency spread around the 100kHz target grid\n",
    "- The ratio of the frequency spread and the frequency resolution"
   ]
  },
  {
   "cell_type": "code",
   "execution_count": 1,
   "metadata": {},
   "outputs": [],
   "source": [
    "import numpy as np\n",
    "import matplotlib.pyplot as plt\n",
    "\n",
    "# Definition of some constants\n",
    "Fs=19530000 # sampling frequency\n",
    "Fmin=1e6 # minimum carrier frequency\n",
    "Fmax=5e6 # maximum carrier frequency\n",
    "Ncar=40 # Number of carriers\n",
    "\n",
    "# Definition of colors\n",
    "c=['r', 'orange', 'gold', 'darkorchid', 'mediumpurple', 'steelblue', 'b', 'turquoise', 'g', 'gray', 'dark']\n"
   ]
  },
  {
   "cell_type": "code",
   "execution_count": 2,
   "metadata": {},
   "outputs": [],
   "source": [
    "# computation of rms value\n",
    "def rms(signal):\n",
    "    return(np.sqrt(np.mean(signal ** 2)))\n",
    "\n",
    "# Computation of crest factor\n",
    "def crest_factor(signal):\n",
    "    peak = abs(signal).max()\n",
    "    return(peak / rms(signal))\n"
   ]
  },
  {
   "cell_type": "code",
   "execution_count": 3,
   "metadata": {},
   "outputs": [],
   "source": [
    "# Definition of carrier frequencies\n",
    "def gen_freq(Fmin, Fmax, Fres, Fsig):\n",
    "    Fstep=(Fmax-Fmin)/Ncar\n",
    "    F=Fmin+Fstep*np.arange(Ncar)+np.random.normal(loc=0, scale=Fsig, size=Ncar)\n",
    "    F=Fres*np.floor(F/Fres) # quantization\n",
    "    return(F)\n",
    "\n",
    "# Computation of optimised bias signal\n",
    "def make_bias(Npts, Fres, Niter, Fsig=2e3):\n",
    "    t=np.arange(Npts)/Fs\n",
    "    freq=gen_freq(Fmin, Fmax, Fres, Fsig)\n",
    "    Cf_tot=0\n",
    "    Cf_opt=np.inf\n",
    "    for i in range(Niter):\n",
    "        bias=np.zeros(Npts)\n",
    "        phase=np.random.rand(Ncar)*2.*np.pi\n",
    "        for i in range(Ncar):\n",
    "            bias+=np.sin(2.*np.pi*freq[i]*t+phase[i])\n",
    "        Cf=crest_factor(bias)\n",
    "        Cf_tot+=Cf\n",
    "        if Cf<Cf_opt:\n",
    "            Cf_opt=Cf\n",
    "            phase_opt=phase\n",
    "    return(Cf_opt, Cf_tot/Niter, bias, freq, phase_opt)\n",
    "\n",
    "# Computation of the crest factor for a specific configuration\n",
    "def compute_Cf_for_a_conf(Niter, Fsig, Fres, verbose=True):\n",
    "    Npts=int(Fs/Fres) # equivalent to the period of the bias\n",
    "    Cf_opt, Cf_mean, bias, freq, phi_opt=make_bias(Npts, Fres, Niter, Fsig)\n",
    "    if verbose:\n",
    "        print(\"Computation of the crest factor for a given configuration:\")\n",
    "        print(\"| Number of carriers:       {0:5d}\".format(Ncar))\n",
    "        print(\"| Frequency spacing:     {0:8.2f} kHz\".format((Fmax-Fmin)/(Ncar*1e3)))\n",
    "        print(\"| Frequency spread:      {0:8.2f} Hz\".format(Fsig))\n",
    "        print(\"| Frequency resolution:  {0:8.2f} Hz\".format(Fres))\n",
    "        print(\"| Optimization technique:  Random\")\n",
    "        print(\"| Number of iterations:     {0:5d}\".format(Niter))\n",
    "        print(\"| -> Cf mean value:         {0:5.2f}\".format(Cf_mean))\n",
    "        print(\"| -> Cf optimal value:      {0:5.2f}\".format(Cf_opt))\n",
    "    return(freq, phi_opt)\n",
    "\n",
    "def phase_impact(freq, phase, Fres, nsteps):\n",
    "    Npts=int(Fs/Fres) # equivalent to the period of the bias    \n",
    "    t=np.arange(Npts)/Fs\n",
    "    delta_phi=(np.arange(nsteps)*np.pi/2)/nsteps\n",
    "    Cf=np.zeros(nsteps)\n",
    "    for i in range(nsteps):\n",
    "        bias=np.zeros(Npts)\n",
    "        for car in range(Ncar):\n",
    "            bias+=np.sin(2.*np.pi*freq[car]*t+phase[car]+delta_phi[i]*np.random.randn(1))\n",
    "        Cf[i]=crest_factor(bias)\n",
    "        print(\"> Sigma phi {0:6.3f}  =>  Cf = {1:6.3f}\".format(delta_phi[i]*180/np.pi, Cf[i]))\n",
    "    return(Cf)\n",
    "\n",
    "def grid_and_phase_impact(n_grid, n_phase, Niter, verbose=True):\n",
    "    p=np.arange(n_grid)\n",
    "    Fres_tab=Fs/2**(18-p)\n",
    "    Cf=np.zeros((n_grid, n_phase))\n",
    "    for grid in range(n_grid):\n",
    "        f,phi=compute_Cf_for_a_conf(Niter=Niter, Fsig=2e3, Fres=Fres_tab[grid], verbose=verbose)\n",
    "        Cf[grid,:]=phase_impact(f, phi, Fres_tab[grid], n_phase)\n",
    "\n",
    "    fig=plt.figure(1,(8,14))\n",
    "    ax=fig.add_subplot(2,1,1)\n",
    "    delta_phi=(np.arange(n_phase)*90)/n_phase\n",
    "    print(Fres_tab)\n",
    "    ax.semilogx(Fres_tab, Cf[:,0], linewidth=5, label=\"Sigma Phase = {0:5.2f} deg\".format(delta_phi[0]))\n",
    "    for phase in range(n_phase-1):\n",
    "        ax.semilogx(Fres_tab, Cf[:,phase+1], label=\"Sigma Phase = {0:5.2f} deg\".format(delta_phi[phase+1]))\n",
    "    ax.legend(loc='lower left')\n",
    "    ax.set_xlabel(\"Frequency grid (Hz)\")\n",
    "    ax.set_ylabel(\"Crest factor\")\n",
    "    ax.set_ylim(0,5)\n",
    "    ax.grid(color='k', linestyle=':', linewidth=0.5)\n",
    "    for item in ([ax.title, ax.xaxis.label, ax.yaxis.label]):\n",
    "        item.set_weight('bold')\n",
    "    for item in ([ax.title, ax.xaxis.label, ax.yaxis.label]):\n",
    "        item.set_fontsize(17)\n",
    "    for item in (ax.get_xticklabels() + ax.get_yticklabels()):\n",
    "        item.set_fontsize(15)\n",
    "\n",
    "    ax1=fig.add_subplot(2,1,2)\n",
    "    ax1.semilogx(Fres_tab, Cf[:,0], linewidth=5, label=\"Sigma Phase = {0:5.2f} deg\".format(delta_phi[0]))\n",
    "    ax1.legend(loc='lower left')\n",
    "    ax1.set_xlabel(\"Frequency grid (Hz)\")\n",
    "    ax1.set_ylabel(\"Crest factor\")\n",
    "    ax1.set_ylim(0,5)\n",
    "    ax1.grid(color='k', linestyle=':', linewidth=0.5)\n",
    "    for item in ([ax1.title, ax1.xaxis.label, ax1.yaxis.label]):\n",
    "        item.set_weight('bold')\n",
    "    for item in ([ax1.title, ax1.xaxis.label, ax1.yaxis.label]):\n",
    "        item.set_fontsize(17)\n",
    "    for item in (ax1.get_xticklabels() + ax1.get_yticklabels()):\n",
    "        item.set_fontsize(15)\n",
    "\n",
    "  "
   ]
  },
  {
   "cell_type": "code",
   "execution_count": 4,
   "metadata": {},
   "outputs": [
    {
     "name": "stdout",
     "output_type": "stream",
     "text": [
      "Computation of the crest factor for a given configuration:\n",
      "| Number of carriers:          40\n",
      "| Frequency spacing:       100.00 kHz\n",
      "| Frequency spread:       2000.00 Hz\n",
      "| Frequency resolution:     74.50 Hz\n",
      "| Optimization technique:  Random\n",
      "| Number of iterations:        10\n",
      "| -> Cf mean value:          4.36\n",
      "| -> Cf optimal value:       3.95\n",
      "> Sigma phi  0.000  =>  Cf =  3.911\n",
      "> Sigma phi  9.000  =>  Cf =  3.898\n",
      "> Sigma phi 18.000  =>  Cf =  4.029\n",
      "> Sigma phi 27.000  =>  Cf =  4.020\n",
      "> Sigma phi 36.000  =>  Cf =  4.018\n",
      "> Sigma phi 45.000  =>  Cf =  4.265\n",
      "> Sigma phi 54.000  =>  Cf =  4.694\n",
      "> Sigma phi 63.000  =>  Cf =  4.222\n",
      "> Sigma phi 72.000  =>  Cf =  4.389\n",
      "> Sigma phi 81.000  =>  Cf =  4.289\n",
      "> Sigma phi  0.000  =>  Cf =  3.795\n",
      "> Sigma phi  9.000  =>  Cf =  3.809\n",
      "> Sigma phi 18.000  =>  Cf =  3.886\n",
      "> Sigma phi 27.000  =>  Cf =  4.052\n",
      "> Sigma phi 36.000  =>  Cf =  4.276\n",
      "> Sigma phi 45.000  =>  Cf =  4.361\n",
      "> Sigma phi 54.000  =>  Cf =  3.911\n",
      "> Sigma phi 63.000  =>  Cf =  5.016\n",
      "> Sigma phi 72.000  =>  Cf =  4.222\n",
      "> Sigma phi 81.000  =>  Cf =  4.351\n",
      "> Sigma phi  0.000  =>  Cf =  3.691\n",
      "> Sigma phi  9.000  =>  Cf =  3.702\n",
      "> Sigma phi 18.000  =>  Cf =  3.875\n",
      "> Sigma phi 27.000  =>  Cf =  3.812\n",
      "> Sigma phi 36.000  =>  Cf =  3.783\n",
      "> Sigma phi 45.000  =>  Cf =  4.047\n",
      "> Sigma phi 54.000  =>  Cf =  4.129\n",
      "> Sigma phi 63.000  =>  Cf =  4.210\n",
      "> Sigma phi 72.000  =>  Cf =  4.040\n",
      "> Sigma phi 81.000  =>  Cf =  3.738\n",
      "> Sigma phi  0.000  =>  Cf =  3.246\n",
      "> Sigma phi  9.000  =>  Cf =  3.383\n",
      "> Sigma phi 18.000  =>  Cf =  3.317\n",
      "> Sigma phi 27.000  =>  Cf =  3.565\n",
      "> Sigma phi 36.000  =>  Cf =  3.347\n",
      "> Sigma phi 45.000  =>  Cf =  3.855\n",
      "> Sigma phi 54.000  =>  Cf =  3.918\n",
      "> Sigma phi 63.000  =>  Cf =  4.232\n",
      "> Sigma phi 72.000  =>  Cf =  4.120\n",
      "> Sigma phi 81.000  =>  Cf =  3.707\n",
      "> Sigma phi  0.000  =>  Cf =  3.189\n",
      "> Sigma phi  9.000  =>  Cf =  3.228\n",
      "> Sigma phi 18.000  =>  Cf =  3.233\n",
      "> Sigma phi 27.000  =>  Cf =  3.581\n",
      "> Sigma phi 36.000  =>  Cf =  3.386\n",
      "> Sigma phi 45.000  =>  Cf =  4.018\n",
      "> Sigma phi 54.000  =>  Cf =  3.652\n",
      "> Sigma phi 63.000  =>  Cf =  3.593\n",
      "> Sigma phi 72.000  =>  Cf =  3.708\n",
      "> Sigma phi 81.000  =>  Cf =  3.589\n",
      "> Sigma phi  0.000  =>  Cf =  3.033\n",
      "> Sigma phi  9.000  =>  Cf =  3.019\n",
      "> Sigma phi 18.000  =>  Cf =  3.173\n",
      "> Sigma phi 27.000  =>  Cf =  2.977\n",
      "> Sigma phi 36.000  =>  Cf =  3.137\n",
      "> Sigma phi 45.000  =>  Cf =  3.687\n",
      "> Sigma phi 54.000  =>  Cf =  3.293\n",
      "> Sigma phi 63.000  =>  Cf =  3.777\n",
      "> Sigma phi 72.000  =>  Cf =  3.523\n",
      "> Sigma phi 81.000  =>  Cf =  4.035\n",
      "[  74.5010376   149.0020752   298.00415039  596.00830078 1192.01660156\n",
      " 2384.03320312]\n"
     ]
    },
    {
     "data": {
      "image/png": "[encoded data removed]",
      "text/plain": [
       "<Figure size 576x1008 with 2 Axes>"
      ]
     },
     "metadata": {
      "needs_background": "light"
     },
     "output_type": "display_data"
    }
   ],
   "source": [
    "Fres=Fs/2**18\n",
    "f,phi=compute_Cf_for_a_conf(Niter=10, Fsig=2e3, Fres=Fres)\n",
    "#phase_impact(f,phi,Fres,nsteps=10)\n",
    "grid_and_phase_impact(n_grid=6, n_phase=10, Niter=200, verbose=False)"
   ]
  },
  {
   "cell_type": "code",
   "execution_count": 5,
   "metadata": {},
   "outputs": [
    {
     "ename": "NameError",
     "evalue": "name 'make_worst_bias' is not defined",
     "output_type": "error",
     "traceback": [
      "\u001b[0;31m---------------------------------------------------------------------------\u001b[0m",
      "\u001b[0;31mNameError\u001b[0m                                 Traceback (most recent call last)",
      "\u001b[0;32m<ipython-input-5-f28c325c9eda>\u001b[0m in \u001b[0;36m<module>\u001b[0;34m\u001b[0m\n\u001b[1;32m      9\u001b[0m \u001b[0;32mfor\u001b[0m \u001b[0mi\u001b[0m \u001b[0;32min\u001b[0m \u001b[0mrange\u001b[0m\u001b[0;34m(\u001b[0m\u001b[0mNmax\u001b[0m\u001b[0;34m)\u001b[0m\u001b[0;34m:\u001b[0m\u001b[0;34m\u001b[0m\u001b[0;34m\u001b[0m\u001b[0m\n\u001b[1;32m     10\u001b[0m     \u001b[0mNcar\u001b[0m\u001b[0;34m=\u001b[0m\u001b[0mi\u001b[0m\u001b[0;34m+\u001b[0m\u001b[0;36m1\u001b[0m\u001b[0;34m\u001b[0m\u001b[0;34m\u001b[0m\u001b[0m\n\u001b[0;32m---> 11\u001b[0;31m     \u001b[0mCf_worst\u001b[0m\u001b[0;34m[\u001b[0m\u001b[0mNcar\u001b[0m\u001b[0;34m]\u001b[0m\u001b[0;34m=\u001b[0m\u001b[0mcrest_factor\u001b[0m\u001b[0;34m(\u001b[0m\u001b[0mmake_worst_bias\u001b[0m\u001b[0;34m(\u001b[0m\u001b[0mNcar\u001b[0m\u001b[0;34m,\u001b[0m \u001b[0mNpts\u001b[0m\u001b[0;34m,\u001b[0m \u001b[0mFres\u001b[0m\u001b[0;34m)\u001b[0m\u001b[0;34m)\u001b[0m\u001b[0;34m\u001b[0m\u001b[0;34m\u001b[0m\u001b[0m\n\u001b[0m\u001b[1;32m     12\u001b[0m     \u001b[0;32mfor\u001b[0m \u001b[0mj\u001b[0m \u001b[0;32min\u001b[0m \u001b[0mrange\u001b[0m\u001b[0;34m(\u001b[0m\u001b[0mNiter\u001b[0m\u001b[0;34m)\u001b[0m\u001b[0;34m:\u001b[0m\u001b[0;34m\u001b[0m\u001b[0;34m\u001b[0m\u001b[0m\n\u001b[1;32m     13\u001b[0m         \u001b[0mtempo\u001b[0m\u001b[0;34m[\u001b[0m\u001b[0mj\u001b[0m\u001b[0;34m]\u001b[0m\u001b[0;34m=\u001b[0m\u001b[0mcrest_factor\u001b[0m\u001b[0;34m(\u001b[0m\u001b[0mmake_bias\u001b[0m\u001b[0;34m(\u001b[0m\u001b[0mNcar\u001b[0m\u001b[0;34m,\u001b[0m \u001b[0mNpts\u001b[0m\u001b[0;34m,\u001b[0m \u001b[0mFres\u001b[0m\u001b[0;34m)\u001b[0m\u001b[0;34m)\u001b[0m\u001b[0;34m\u001b[0m\u001b[0;34m\u001b[0m\u001b[0m\n",
      "\u001b[0;31mNameError\u001b[0m: name 'make_worst_bias' is not defined"
     ]
    }
   ],
   "source": [
    "# Crest factor as a function of the number of carriers\n",
    "Nmax=40\n",
    "Niter=40\n",
    "Fres=Fs/2**18 # 76.29Hz\n",
    "Npts=int(Fs/Fres)\n",
    "Cf=np.zeros(Nmax+1)\n",
    "Cf_worst=np.zeros(Nmax+1)\n",
    "tempo=np.zeros(Niter)\n",
    "for i in range(Nmax):\n",
    "    Ncar=i+1\n",
    "    Cf_worst[Ncar]=crest_factor(make_worst_bias(Ncar, Npts, Fres))\n",
    "    for j in range(Niter):\n",
    "        tempo[j]=crest_factor(make_bias(Ncar, Npts, Fres))\n",
    "    Cf[Ncar]=np.min(tempo)\n",
    "#fig, ax = plt.subplots()\n",
    "\n",
    "fig = plt.figure(figsize=(9, 7)) \n",
    "ax = plt.subplot(1,1,1)\n",
    "\n",
    "ax.plot(1+np.arange(Nmax), Cf[1:])\n",
    "ax.plot(1+np.arange(Nmax), Cf[1:], 'o', label='Optimized Cf (random)')\n",
    "ax.plot(1+np.arange(Nmax), Cf_worst[1:])\n",
    "ax.plot(1+np.arange(Nmax), Cf_worst[1:], 'o', label='Non optimized Cf')\n",
    "ax.set_ylim([0, Cf_worst[-1]])\n",
    "ax.grid(color='k', linestyle=':', linewidth=0.5)\n",
    "ax.set_xlabel(\"Number of carriers\")\n",
    "ax.set_ylabel(\"Crest factor\")\n",
    "ax.legend(loc=0, shadow=True)\n"
   ]
  },
  {
   "cell_type": "markdown",
   "metadata": {},
   "source": [
    "* For more than 10 carriers the optimised crest factor does not depend on the number of carriers."
   ]
  },
  {
   "cell_type": "code",
   "execution_count": 6,
   "metadata": {},
   "outputs": [],
   "source": [
    "# Impact of carrier frequency resolution on crest factor\n",
    "def Cf_vs_Fres(Fsig):\n",
    "    Fres=Fs/np.array([2**9, 2**10, 2**11, 2**12, 2**13, 2**14, 2**15, 2**16, 2**17, 2**18])\n",
    "    Ncar=40\n",
    "    Npts=Fs/Fres\n",
    "    Niter=120\n",
    "    Cf=np.zeros(len(Fres))\n",
    "    tempo=np.zeros(Niter)\n",
    "    for i in range(len(Fres)):\n",
    "        for j in range(Niter):\n",
    "            tempo[j]=crest_factor(make_bias(Ncar, int(Npts[i]), Fres[i], Fsig))\n",
    "        Cf[i]=np.min(tempo)\n",
    "    #fig, ax = plt.subplots()\n",
    "    fig = plt.figure(figsize=(9, 7)) \n",
    "    ax = plt.subplot(1,1,1)\n",
    "\n",
    "    ax.semilogx(Fres, Cf)\n",
    "    ax.semilogx(Fres, Cf, 'o')\n",
    "    ax.set_title(\"Optimised Cf as a function of Fres\")\n",
    "    ax.set_xlabel(\"Frequency resolution (Hz)\")\n",
    "    ax.set_ylabel(\"Crest factor\")\n",
    "    ax.set_ylim([0, Cf[-1]*1.2])\n",
    "    ax.grid(color='k', linestyle=':', linewidth=0.5)\n",
    "    fig, ax2 = plt.subplots()\n",
    "    ax2.semilogx(Fsig/Fres, Cf)\n",
    "    ax2.semilogx(Fsig/Fres, Cf, 'o')\n",
    "    ax2.set_title(\"Optimised Cf as a function of Fres\")\n",
    "    ax2.set_xlabel(\"F spread / F res\")\n",
    "    ax2.set_ylabel(\"Crest factor\")\n",
    "    ax2.set_ylim([0, Cf[-1]*1.2])\n",
    "    ax2.grid(color='k', linestyle=':', linewidth=0.5)\n",
    "\n",
    "    print(\"Cf reduction vs 4.5 for Fsig = {0:6.2f} kHz\".format(Fsig))\n",
    "    print(\"------------------------------\")\n",
    "    for i in range(len(Fres)):\n",
    "        print(\"| {0:8.2f} Hz  =>> {1:6.2f} dB |\".format(Fres[i], 20*np.log10(4.5/Cf[i])))\n",
    "    print(\"------------------------------\")\n"
   ]
  },
  {
   "cell_type": "code",
   "execution_count": 7,
   "metadata": {},
   "outputs": [],
   "source": [
    "# Impact of carrier frequency spread on crest factor\n",
    "def Cf_vs_Fsig(Fres):\n",
    "    Fsig=np.array([250, 500, 1e3, 2e3, 4e3, 8e3, 16e3])\n",
    "    Ncar=40\n",
    "    Npts=Fs/Fres\n",
    "    Niter=120\n",
    "    Cf=np.zeros(len(Fsig))\n",
    "    tempo=np.zeros(Niter)\n",
    "    for i in range(len(Fsig)):\n",
    "        for j in range(Niter):\n",
    "            tempo[j]=crest_factor(make_bias(Ncar, int(Npts), Fres, Fsig[i]))\n",
    "        Cf[i]=np.min(tempo)\n",
    "    fig, ax = plt.subplots()\n",
    "    ax.semilogx(Fsig, Cf)\n",
    "    ax.semilogx(Fsig, Cf, 'o')\n",
    "    ax.set_ylim([0, Cf[-1]*1.2])\n",
    "    ax.grid(color='k', linestyle=':', linewidth=0.5)\n",
    "    ax.set_title(\"Optimised Cf as a function of F spread\")\n",
    "    ax.set_xlabel(\"Frequency spread (Hz)\")\n",
    "    ax.set_ylabel(\"Crest factor\")\n",
    "    ax.grid(color='k', linestyle=':', linewidth=0.5)\n",
    "    "
   ]
  },
  {
   "cell_type": "code",
   "execution_count": 8,
   "metadata": {},
   "outputs": [],
   "source": [
    "# Impact of carrier frequency spread / frequency resolution on crest factor\n",
    "def Cf_vs_Fsig_Fres():\n",
    "    Fres=Fs/np.array([2**8, 2**9, 2**10, 2**11, 2**12, 2**13, 2**14, 2**15, 2**16, 2**17, 2**18])\n",
    "    Fsig_over_Fres=np.array([1./128., 1./8., 1./4., 1./2., 1., 2., 4., 8.])\n",
    "    Ncar=40\n",
    "    Npts=Fs/Fres\n",
    "    Niter=120\n",
    "    Cf=np.zeros((len(Fsig_over_Fres), len(Fres)))\n",
    "    tempo=np.zeros(Niter)\n",
    "    for i in range(len(Fres)):\n",
    "        for k in range(len(Fsig_over_Fres)):\n",
    "            for j in range(Niter):\n",
    "                tempo[j]=crest_factor(make_bias(Ncar, int(Npts[i]), Fres=Fres[i], Fsig=Fres[i]*Fsig_over_Fres[k]))\n",
    "            Cf[k, i]=np.min(tempo)\n",
    "    fig, ax = plt.subplots()\n",
    "    for k in range(len(Fsig_over_Fres)):\n",
    "        ax.semilogx(Fres, Cf[k,:],'-', color=c[k])\n",
    "        ax.semilogx(Fres, Cf[k,:], 'o', color=c[k], label='Fsig / Fres={0:5.2f}'.format(Fsig_over_Fres[k]))\n",
    "    ax.set_ylim([0, np.max(Cf*1.2)])\n",
    "    ax.grid(color='k', linestyle=':', linewidth=0.5)\n",
    "    ax.set_title(\"Optimised Cf as a function of F spread\")\n",
    "    ax.set_xlabel(\"Frequency resolution (Hz)\")\n",
    "    ax.set_ylabel(\"Crest factor\")\n",
    "    ax.grid(color='k', linestyle=':', linewidth=0.5)\n",
    "    ax.legend(loc=0, shadow=True)\n",
    "    "
   ]
  },
  {
   "cell_type": "code",
   "execution_count": 9,
   "metadata": {},
   "outputs": [
    {
     "ename": "TypeError",
     "evalue": "'float' object cannot be interpreted as an integer",
     "output_type": "error",
     "traceback": [
      "\u001b[0;31m---------------------------------------------------------------------------\u001b[0m",
      "\u001b[0;31mTypeError\u001b[0m                                 Traceback (most recent call last)",
      "\u001b[0;32m<ipython-input-9-37750b7a5af6>\u001b[0m in \u001b[0;36m<module>\u001b[0;34m\u001b[0m\n\u001b[0;32m----> 1\u001b[0;31m \u001b[0mCf_vs_Fsig\u001b[0m\u001b[0;34m(\u001b[0m\u001b[0mFres\u001b[0m\u001b[0;34m=\u001b[0m\u001b[0mFs\u001b[0m\u001b[0;34m/\u001b[0m\u001b[0;36m2\u001b[0m\u001b[0;34m**\u001b[0m\u001b[0;36m18\u001b[0m\u001b[0;34m)\u001b[0m\u001b[0;34m\u001b[0m\u001b[0;34m\u001b[0m\u001b[0m\n\u001b[0m",
      "\u001b[0;32m<ipython-input-7-14ab3e61c108>\u001b[0m in \u001b[0;36mCf_vs_Fsig\u001b[0;34m(Fres)\u001b[0m\n\u001b[1;32m      9\u001b[0m     \u001b[0;32mfor\u001b[0m \u001b[0mi\u001b[0m \u001b[0;32min\u001b[0m \u001b[0mrange\u001b[0m\u001b[0;34m(\u001b[0m\u001b[0mlen\u001b[0m\u001b[0;34m(\u001b[0m\u001b[0mFsig\u001b[0m\u001b[0;34m)\u001b[0m\u001b[0;34m)\u001b[0m\u001b[0;34m:\u001b[0m\u001b[0;34m\u001b[0m\u001b[0;34m\u001b[0m\u001b[0m\n\u001b[1;32m     10\u001b[0m         \u001b[0;32mfor\u001b[0m \u001b[0mj\u001b[0m \u001b[0;32min\u001b[0m \u001b[0mrange\u001b[0m\u001b[0;34m(\u001b[0m\u001b[0mNiter\u001b[0m\u001b[0;34m)\u001b[0m\u001b[0;34m:\u001b[0m\u001b[0;34m\u001b[0m\u001b[0;34m\u001b[0m\u001b[0m\n\u001b[0;32m---> 11\u001b[0;31m             \u001b[0mtempo\u001b[0m\u001b[0;34m[\u001b[0m\u001b[0mj\u001b[0m\u001b[0;34m]\u001b[0m\u001b[0;34m=\u001b[0m\u001b[0mcrest_factor\u001b[0m\u001b[0;34m(\u001b[0m\u001b[0mmake_bias\u001b[0m\u001b[0;34m(\u001b[0m\u001b[0mNcar\u001b[0m\u001b[0;34m,\u001b[0m \u001b[0mint\u001b[0m\u001b[0;34m(\u001b[0m\u001b[0mNpts\u001b[0m\u001b[0;34m)\u001b[0m\u001b[0;34m,\u001b[0m \u001b[0mFres\u001b[0m\u001b[0;34m,\u001b[0m \u001b[0mFsig\u001b[0m\u001b[0;34m[\u001b[0m\u001b[0mi\u001b[0m\u001b[0;34m]\u001b[0m\u001b[0;34m)\u001b[0m\u001b[0;34m)\u001b[0m\u001b[0;34m\u001b[0m\u001b[0;34m\u001b[0m\u001b[0m\n\u001b[0m\u001b[1;32m     12\u001b[0m         \u001b[0mCf\u001b[0m\u001b[0;34m[\u001b[0m\u001b[0mi\u001b[0m\u001b[0;34m]\u001b[0m\u001b[0;34m=\u001b[0m\u001b[0mnp\u001b[0m\u001b[0;34m.\u001b[0m\u001b[0mmin\u001b[0m\u001b[0;34m(\u001b[0m\u001b[0mtempo\u001b[0m\u001b[0;34m)\u001b[0m\u001b[0;34m\u001b[0m\u001b[0;34m\u001b[0m\u001b[0m\n\u001b[1;32m     13\u001b[0m     \u001b[0mfig\u001b[0m\u001b[0;34m,\u001b[0m \u001b[0max\u001b[0m \u001b[0;34m=\u001b[0m \u001b[0mplt\u001b[0m\u001b[0;34m.\u001b[0m\u001b[0msubplots\u001b[0m\u001b[0;34m(\u001b[0m\u001b[0;34m)\u001b[0m\u001b[0;34m\u001b[0m\u001b[0;34m\u001b[0m\u001b[0m\n",
      "\u001b[0;32m<ipython-input-3-08c274b534c5>\u001b[0m in \u001b[0;36mmake_bias\u001b[0;34m(Npts, Fres, Niter, Fsig)\u001b[0m\n\u001b[1;32m     12\u001b[0m     \u001b[0mCf_tot\u001b[0m\u001b[0;34m=\u001b[0m\u001b[0;36m0\u001b[0m\u001b[0;34m\u001b[0m\u001b[0;34m\u001b[0m\u001b[0m\n\u001b[1;32m     13\u001b[0m     \u001b[0mCf_opt\u001b[0m\u001b[0;34m=\u001b[0m\u001b[0mnp\u001b[0m\u001b[0;34m.\u001b[0m\u001b[0minf\u001b[0m\u001b[0;34m\u001b[0m\u001b[0;34m\u001b[0m\u001b[0m\n\u001b[0;32m---> 14\u001b[0;31m     \u001b[0;32mfor\u001b[0m \u001b[0mi\u001b[0m \u001b[0;32min\u001b[0m \u001b[0mrange\u001b[0m\u001b[0;34m(\u001b[0m\u001b[0mNiter\u001b[0m\u001b[0;34m)\u001b[0m\u001b[0;34m:\u001b[0m\u001b[0;34m\u001b[0m\u001b[0;34m\u001b[0m\u001b[0m\n\u001b[0m\u001b[1;32m     15\u001b[0m         \u001b[0mbias\u001b[0m\u001b[0;34m=\u001b[0m\u001b[0mnp\u001b[0m\u001b[0;34m.\u001b[0m\u001b[0mzeros\u001b[0m\u001b[0;34m(\u001b[0m\u001b[0mNpts\u001b[0m\u001b[0;34m)\u001b[0m\u001b[0;34m\u001b[0m\u001b[0;34m\u001b[0m\u001b[0m\n\u001b[1;32m     16\u001b[0m         \u001b[0mphase\u001b[0m\u001b[0;34m=\u001b[0m\u001b[0mnp\u001b[0m\u001b[0;34m.\u001b[0m\u001b[0mrandom\u001b[0m\u001b[0;34m.\u001b[0m\u001b[0mrand\u001b[0m\u001b[0;34m(\u001b[0m\u001b[0mNcar\u001b[0m\u001b[0;34m)\u001b[0m\u001b[0;34m*\u001b[0m\u001b[0;36m2.\u001b[0m\u001b[0;34m*\u001b[0m\u001b[0mnp\u001b[0m\u001b[0;34m.\u001b[0m\u001b[0mpi\u001b[0m\u001b[0;34m\u001b[0m\u001b[0;34m\u001b[0m\u001b[0m\n",
      "\u001b[0;31mTypeError\u001b[0m: 'float' object cannot be interpreted as an integer"
     ]
    }
   ],
   "source": [
    "Cf_vs_Fsig(Fres=Fs/2**18)"
   ]
  },
  {
   "cell_type": "markdown",
   "metadata": {},
   "source": [
    "* The crest factor increases with the frequency spread around the target 100kHz grid"
   ]
  },
  {
   "cell_type": "code",
   "execution_count": null,
   "metadata": {},
   "outputs": [],
   "source": [
    "Cf_vs_Fres(Fsig=1e3)"
   ]
  },
  {
   "cell_type": "markdown",
   "metadata": {},
   "source": [
    "* The crest factor is smaller for highest values of the frequency resolution"
   ]
  },
  {
   "cell_type": "code",
   "execution_count": null,
   "metadata": {},
   "outputs": [],
   "source": [
    "Cf_vs_Fsig_Fres()"
   ]
  },
  {
   "cell_type": "markdown",
   "metadata": {},
   "source": [
    "* For values of the frequency resolution much smaller than the frequency spacing (i.e. << 100kHz, left part of the plot) the crest factor depends only on the ratio _frequency spread / frequency resolution_ : in this case the crest factor is optimal for _frequency resolution >> frequency spread_\n",
    "* For values of the frequency resolution of the order of the frequency spacing (i.e. ~100kHz, right part of the plot) the crest factor is optimal whatever the ratio _frequency spread / frequency resolution_"
   ]
  },
  {
   "cell_type": "code",
   "execution_count": null,
   "metadata": {},
   "outputs": [],
   "source": [
    "compute_Cf_for_a_conf(Ncar=40, Niter=200, Fsig=1e3, Fres=Fs/2**8)"
   ]
  },
  {
   "cell_type": "markdown",
   "metadata": {},
   "source": [
    "## Summary: \n",
    "* For more than 10 carriers the optimised crest factor does not depend on the number of carriers\n",
    "* The crest factor increases with the frequency spread around the target 100kHz grid\n",
    "* The crest factor is smaller for highest values of the frequency resolution\n",
    "* For values of the frequency resolution much smaller than the frequency spacing (i.e. << 100kHz) the crest factor depends only on the ratio _frequency spread / frequency resolution_ : in this case the crest factor is optimal for _frequency resolution >> frequency spread_\n",
    "* For values of the frequency resolution of the order of the frequency spacing (i.e. ~100kHz) the crest factor is optimal whatever the ratio _frequency spread / frequency resolution_"
   ]
  },
  {
   "cell_type": "code",
   "execution_count": 8,
   "metadata": {},
   "outputs": [
    {
     "name": "stdout",
     "output_type": "stream",
     "text": [
      "Best Cf:   2.8736\n",
      "Mean Cf:   3.5584\n",
      "freqtab=[\n",
      "    996525.8789062, 1094271.2402344, 1196784.6679688, 1299298.0957031, 1399427.4902344, 1499556.8847656, 1599686.2792969, 1697431.6406250, \n",
      "    1799945.0683594, 1902458.4960938, 2000203.8574219, 2097949.2187500, 2198078.6132812, 2300592.0410156, 2400721.4355469, 2498466.7968750, \n",
      "    2600980.2246094, 2696341.5527344, 2798854.9804688, 2896600.3417969, 2996729.7363281, 3099243.1640625, 3199372.5585938, 3299501.9531250, \n",
      "    3397247.3144531, 3499760.7421875, 3602274.1699219, 3697635.4980469, 3800148.9257812, 3897894.2871094, 3998023.6816406, 4100537.1093750, \n",
      "    4200666.5039062, 4296027.8320312, 4400925.2929688, 4498670.6542969, 4598800.0488281, 4698929.4433594, 4799058.8378906, 4899188.2324219 \n",
      "];\n",
      "phitab=[\n",
      "       107.7727850,    203.1627632,    298.8801967,    127.5994160,    188.5333522,      2.4112296,     67.1484022,    171.1652201, \n",
      "       150.8047598,    322.1950151,    130.0851989,     81.4760375,    122.0745452,     50.3190029,    241.3635474,    325.3371947, \n",
      "       347.0680053,    355.4681262,    255.6400237,    168.1738017,    299.6908905,     48.5313223,     62.9947822,    170.4643769, \n",
      "       206.6976474,    151.1035278,     36.3290275,    131.4925075,     21.9212012,    265.7612321,    144.8605492,    270.6517507, \n",
      "       326.9658489,    349.3146804,    313.9478634,     73.1778711,    129.7487013,    132.9821082,    205.3450111,    139.3232841 \n",
      "];\n"
     ]
    }
   ],
   "source": [
    "def print_vect40(vect_40):\n",
    "    for l in range(4):\n",
    "        print(\"    \", end='')\n",
    "        for c in range(8):\n",
    "            print(\"{0:14.7f}, \".format(vect_40[8*l+c]), end='')\n",
    "        print(\"\")\n",
    "    # Cas de la derniere ligne sans virgule a la fin\n",
    "    print(\"    \", end='')\n",
    "    for c in range(7):\n",
    "        print(\"{0:14.7f}, \".format(vect_40[32+c]), end='')\n",
    "    print(\"{0:14.7f} \".format(vect_40[39]))\n",
    "\n",
    "Npts=2**13\n",
    "Fres=Fs/Npts\n",
    "Niter=1000\n",
    "Cf_opt, Cf_mean, bias, freq, phase_opt=make_bias(Npts, Fres, Niter)\n",
    "print('Best Cf:   {0:6.4f}'.format(Cf_opt))\n",
    "print('Mean Cf:   {0:6.4f}'.format(Cf_mean))\n",
    "print(\"freqtab=[\")\n",
    "print_vect40(freq)\n",
    "print(\"];\")\n",
    "\n",
    "print(\"phitab=[\")\n",
    "print_vect40(phase_opt*180/np.pi)\n",
    "print(\"];\")\n"
   ]
  },
  {
   "cell_type": "code",
   "execution_count": null,
   "metadata": {},
   "outputs": [],
   "source": []
  },
  {
   "cell_type": "code",
   "execution_count": null,
   "metadata": {},
   "outputs": [],
   "source": []
  }
 ],
 "metadata": {
  "kernelspec": {
   "display_name": "Python 3",
   "language": "python",
   "name": "python3"
  },
  "language_info": {
   "codemirror_mode": {
    "name": "ipython",
    "version": 3
   },
   "file_extension": ".py",
   "mimetype": "text/x-python",
   "name": "python",
   "nbconvert_exporter": "python",
   "pygments_lexer": "ipython3",
   "version": "3.7.4"
  }
 },
 "nbformat": 4,
 "nbformat_minor": 4
}
