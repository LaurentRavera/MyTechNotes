{
 "cells": [
  {
   "cell_type": "markdown",
   "metadata": {},
   "source": [
    "# Crest factor \n",
    "### 05/12/2019\n",
    "### Laurent @IRAP\n",
    "This Notebook defines a set of carrier frequencies and initial phases and measures the resulting crest factor."
   ]
  },
  {
   "cell_type": "code",
   "execution_count": 33,
   "metadata": {},
   "outputs": [],
   "source": [
    "import numpy as np\n",
    "import matplotlib.pyplot as plt"
   ]
  },
  {
   "cell_type": "code",
   "execution_count": 34,
   "metadata": {},
   "outputs": [
    {
     "name": "stdout",
     "output_type": "stream",
     "text": [
      "8192\n"
     ]
    }
   ],
   "source": [
    "fs=19530000\n",
    "fgrid=fs/2**13\n",
    "period=1/fgrid\n",
    "npts=int(period*fs)\n",
    "phigrid=360/2**12\n",
    "ftab=np.array([ 998909.91210938, 1096655.2734375 , 1201552.734375  ,\n",
    "       1301682.12890625, 1397043.45703125, 1501940.91796875,\n",
    "       1602070.3125    , 1695047.60742188, 1799945.06835938,\n",
    "       1904842.52929688, 1997819.82421875, 2102717.28515625,\n",
    "       2195694.58007812, 2295823.97460938, 2395953.36914062,\n",
    "       2500850.83007812, 2600980.22460938, 2701109.61914062,\n",
    "       2798854.98046875, 2898984.375     , 2999113.76953125,\n",
    "       3101627.19726562, 3201756.59179688, 3297117.91992188,\n",
    "       3402015.38085938, 3499760.7421875 , 3599890.13671875,\n",
    "       3697635.49804688, 3797764.89257812, 3895510.25390625,\n",
    "       3998023.68164062, 4102921.14257812, 4195898.4375    ,\n",
    "       4296027.83203125, 4398541.25976562, 4501054.6875    ,\n",
    "       4598800.04882812, 4698929.44335938, 4799058.83789062,\n",
    "       4899188.23242188])\n",
    "phitab=np.array([ 27.86132812, 111.4453125 , 354.0234375 , 244.3359375 ,\n",
    "        31.02539062, 352.00195312, 174.46289062, 167.34375   ,\n",
    "        23.64257812,  32.34375   , 320.44921875, 110.12695312,\n",
    "        68.11523438,  10.45898438, 348.13476562,  96.94335938,\n",
    "       199.95117188, 276.85546875, 185.00976562, 113.29101562,\n",
    "       291.62109375, 295.57617188, 119.35546875, 185.88867188,\n",
    "         6.59179688, 159.2578125 , 254.70703125, 229.39453125,\n",
    "        95.88867188, 340.57617188,  41.04492188, 256.81640625,\n",
    "       270.52734375, 265.34179688, 288.80859375, 217.44140625,\n",
    "        54.75585938, 280.01953125, 148.18359375, 304.89257812])"
   ]
  },
  {
   "cell_type": "code",
   "execution_count": 35,
   "metadata": {},
   "outputs": [],
   "source": [
    "def mk_bias(ftab, phitab, fs, npts, ncar=40):\n",
    "    t=np.arange(npts)/fs\n",
    "    bias=np.zeros(npts)\n",
    "    for car in range(ncar):\n",
    "        bias+=np.sin(2.*np.pi*ftab[car]*t+phitab[car])\n",
    "    return(bias)"
   ]
  },
  {
   "cell_type": "code",
   "execution_count": 36,
   "metadata": {},
   "outputs": [],
   "source": [
    "# Computation of crest factor\n",
    "def crest_factor1(signal):\n",
    "    \"\"\"\n",
    "    Computes the crest factor Cf of a vector.\n",
    "    Cf(signal) = Peak(signal)/rms(signal)\n",
    "    In this function Peak(signal) is defined as Max(abs(signal))\n",
    "    This is a realistic definition wrt the DAC\n",
    "    \"\"\"\n",
    "    peak = abs(signal).max()\n",
    "    return(peak / signal.std())\n",
    "\n",
    "def crest_factor2(signal):\n",
    "    \"\"\"\n",
    "    Computes the crest factor Cf of a vector.\n",
    "    Cf(signal) = Peak(signal)/rms(signal)\n",
    "    In this function Peak(signal) is defined as 0.5*(Max(signal)-Min(signal))\n",
    "    This is not realistic definition wrt the DAC\n",
    "    \"\"\"\n",
    "\n",
    "    peak = (signal.max()-signal.min())/2\n",
    "    return(peak / signal.std())"
   ]
  },
  {
   "cell_type": "code",
   "execution_count": 37,
   "metadata": {},
   "outputs": [
    {
     "name": "stdout",
     "output_type": "stream",
     "text": [
      "3.4385086989428704\n",
      "3.3920675039285415\n"
     ]
    }
   ],
   "source": [
    "print(crest_factor1(mk_bias(ftab, phitab, fs, npts)))\n",
    "print(crest_factor2(mk_bias(ftab, phitab, fs, npts)))"
   ]
  },
  {
   "cell_type": "code",
   "execution_count": null,
   "metadata": {},
   "outputs": [],
   "source": []
  }
 ],
 "metadata": {
  "kernelspec": {
   "display_name": "Python 3",
   "language": "python",
   "name": "python3"
  },
  "language_info": {
   "codemirror_mode": {
    "name": "ipython",
    "version": 3
   },
   "file_extension": ".py",
   "mimetype": "text/x-python",
   "name": "python",
   "nbconvert_exporter": "python",
   "pygments_lexer": "ipython3",
   "version": "3.7.4"
  }
 },
 "nbformat": 4,
 "nbformat_minor": 4
}
