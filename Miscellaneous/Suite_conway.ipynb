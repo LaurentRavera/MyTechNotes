{
 "cells": [
  {
   "cell_type": "markdown",
   "metadata": {},
   "source": [
    "# L. Ravera\n",
    "## 18 sept. 2022\n",
    "## Some functions to play with strings"
   ]
  },
  {
   "cell_type": "code",
   "execution_count": 4,
   "metadata": {},
   "outputs": [
    {
     "data": {
      "text/plain": [
       "'11'"
      ]
     },
     "execution_count": 4,
     "metadata": {},
     "output_type": "execute_result"
    }
   ],
   "source": [
    "def conway1(strin):\n",
    "    # Cette fonction calcule une iteration de la suite de Conway   \n",
    "    l = len(strin)\n",
    "    i = 0\n",
    "    strout=''\n",
    "    while (i < l):\n",
    "        compteur = 0\n",
    "        # je compte les caractères identiques\n",
    "        while (i+compteur < l and strin[i+compteur] == strin[i]):\n",
    "            compteur += 1\n",
    "        strout = strout + str(compteur) + strin[i] \n",
    "        # je fais avancer l'index i\n",
    "        i = i+compteur\n",
    "    return(strout)\n",
    "\n",
    "conway1('1')\n"
   ]
  },
  {
   "cell_type": "code",
   "execution_count": 5,
   "metadata": {},
   "outputs": [
    {
     "name": "stdout",
     "output_type": "stream",
     "text": [
      "1\n",
      "11\n",
      "21\n",
      "1211\n",
      "111221\n",
      "312211\n",
      "13112221\n",
      "1113213211\n",
      "31131211131221\n",
      "13211311123113112211\n"
     ]
    }
   ],
   "source": [
    "def conway(x):\n",
    "    ###\n",
    "    # Cette fonction recherche la suite de Conway\n",
    "    # l'argument d'entrée x est le nombre d'itérations à effectuer\n",
    "    ###\n",
    "    stringi='1'\n",
    "    for i in range(x):\n",
    "        print(stringi)\n",
    "        stringi=conway1(stringi)\n",
    "\n",
    "conway(10)"
   ]
  }
 ],
 "metadata": {
  "kernelspec": {
   "display_name": "Python 3.9.12 ('base')",
   "language": "python",
   "name": "python3"
  },
  "language_info": {
   "codemirror_mode": {
    "name": "ipython",
    "version": 3
   },
   "file_extension": ".py",
   "mimetype": "text/x-python",
   "name": "python",
   "nbconvert_exporter": "python",
   "pygments_lexer": "ipython3",
   "version": "3.9.15"
  },
  "orig_nbformat": 4,
  "vscode": {
   "interpreter": {
    "hash": "c4aea60f2cbe4e41401a90d791d10ab854e973ec2c65e5aec142ecec4e76c56b"
   }
  }
 },
 "nbformat": 4,
 "nbformat_minor": 2
}
