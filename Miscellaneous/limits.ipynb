{
 "cells": [
  {
   "cell_type": "markdown",
   "metadata": {},
   "source": [
    "# Limits trigo\n",
    "\n",
    "L. Ravera\n",
    "This notebook checks the limits of trigonométric fonctions"
   ]
  },
  {
   "cell_type": "code",
   "execution_count": 6,
   "metadata": {},
   "outputs": [],
   "source": [
    "import numpy as np\n",
    "import matplotlib.pyplot as plt\n",
    "import matplotlib\n",
    "matplotlib.use('Qt5Agg')"
   ]
  },
  {
   "cell_type": "code",
   "execution_count": 7,
   "metadata": {},
   "outputs": [],
   "source": [
    "npts = 2**10\n",
    "\n",
    "x = (1+np.arange(npts))/npts"
   ]
  },
  {
   "cell_type": "code",
   "execution_count": 8,
   "metadata": {},
   "outputs": [],
   "source": [
    "def f1(x):\n",
    "    return (1 - np.cos(x))/x"
   ]
  },
  {
   "cell_type": "code",
   "execution_count": 9,
   "metadata": {},
   "outputs": [],
   "source": [
    "def f2(x):\n",
    "    return np.sin(x)/x"
   ]
  },
  {
   "cell_type": "code",
   "execution_count": 10,
   "metadata": {},
   "outputs": [],
   "source": [
    "fig=plt.figure(1,(7,5))\n",
    "ax1=fig.add_subplot(1,1,1)\n",
    "ax1.plot(x, f1(x), label=r'$f_1(x)=\\frac{1-\\cos(x)}{x}$')\n",
    "ax1.plot(x, f2(x), label=r'$f_2(x)=\\frac{\\sin(x)}{x}$')\n",
    "ax1.legend(loc='best')\n",
    "ax1.set_xlabel(r'$x$')\n",
    "ax1.set_ylabel(r'$f(x)$')\n",
    "ax1.axis([0,1,-0.2,1.2])\n",
    "# Major ticks every 20, minor ticks every 10\n",
    "ax1.grid(color='k', linestyle=':', linewidth=0.5)\n",
    "fig.tight_layout()\n",
    "fig.show()\n"
   ]
  }
 ],
 "metadata": {
  "kernelspec": {
   "display_name": "Python 3.9.12 ('base')",
   "language": "python",
   "name": "python3"
  },
  "language_info": {
   "codemirror_mode": {
    "name": "ipython",
    "version": 3
   },
   "file_extension": ".py",
   "mimetype": "text/x-python",
   "name": "python",
   "nbconvert_exporter": "python",
   "pygments_lexer": "ipython3",
   "version": "3.9.15"
  },
  "orig_nbformat": 4,
  "vscode": {
   "interpreter": {
    "hash": "c4aea60f2cbe4e41401a90d791d10ab854e973ec2c65e5aec142ecec4e76c56b"
   }
  }
 },
 "nbformat": 4,
 "nbformat_minor": 2
}
