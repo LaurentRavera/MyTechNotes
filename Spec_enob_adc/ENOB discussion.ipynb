{
 "cells": [
  {
   "cell_type": "markdown",
   "id": "45ad0e66-f2a7-4e4a-ad67-426aa1de3612",
   "metadata": {},
   "source": [
    "$ENOB$ formula used by CNES for ADC is as follow:\n",
    "\n",
    "$ENOB=\\frac{1}{6.02} \\left( 20 \\log10 \\left(\\frac{Vpp}{NSD}\\right)-10.8-10 \\log10\\left(\\frac{6.25MHz}{2}\\right) \\right)$\n",
    "\n",
    "At first glance this formula is unclear...\n",
    "\n",
    "IRAP comprehension is that, for a sinewave input the $SNR$ of an ADC is given by:\n",
    "\n",
    "${SNR}_{dB} = 6.02 \\times ENOB + 1.76$\n",
    "\n",
    "Input signal $SNR$ is defined as:\n",
    "\n",
    "${SNR}_{dB} = 20 \\log10 \\left(\\frac{Vrms_{signal}}{NSD \\sqrt{Fs/2}}\\right)$\n",
    "\n",
    "Since the signal is a sinwave and considering $Fs$=$\\alpha$ x 6.25 MHz:\n",
    "\n",
    "\\begin{align}\n",
    "{SNR}_{dB}&=20 \\log10 \\left(\\frac{\\frac{Vpp_{signal}}{\\sqrt{2}}}{NSD \\sqrt{\\alpha \\times 6.25\\text{MHz}/2}}\\right)\\\\\n",
    "&=20 \\log10 \\left(\\frac{Vpp_{signal}}{NSD}\\right)-10\\times \\log10 \\left( \\frac{\\alpha}{2} \\right)-10 \\log10 \\left( \\frac{2}{6.25\\text{MHz}} \\right)\\\\\n",
    "\\end{align}\n",
    "\n",
    "Then ENOB is computed as:\n",
    "\n",
    "\\begin{align}\n",
    "ENOB&=\\frac{1}{6.02} \\left( SNR -1.76 \\right)\\\\\n",
    "&=\\frac{1}{6.02} \\left( 20 \\log10 \\left(\\frac{Vpp_{signal}}{NSD}\\right)-10 \\log10 \\left( \\frac{6.25\\text{MHz}}{2} \\right) -1.76 -10 \\log10 \\left( \\frac{\\alpha}{2} \\right)\\right)\n",
    "\\end{align}\n",
    "\n",
    "Considering a 100MHz sampling frequency ($\\alpha=16$) leads to:\n",
    "\n",
    "$ENOB=\\frac{1}{6.02} \\left( 20 \\log10 \\left(\\frac{Vpp_{signal}}{NSD}\\right)-10 \\log10 \\left( \\frac{6.25MHz}{2} \\right) -10.79 \\right)$\n",
    "\n",
    "* IRAP comprehension here is that we only look to error signal. No averaging is performed. (An averaging of 4 would lead to an extra bit)\n",
    "* The Formula is not correct since Fs is now 125MHz and no more 100MHz. Why not keep it simple since 6.25MHz/2 has no meaning here?\n",
    "* When looking to number, noise added by the DRE is $27\\ nV/\\sqrt{Hz}$ and peak to peak is 0.48V which leads to an ENOB of 11.5 bits using CNES formula. It is understood that this ENOB is only accounting for ADC quantization noise.\n"
   ]
  },
  {
   "cell_type": "code",
   "execution_count": 8,
   "id": "e4559d27-d144-409f-be04-14867d4cfdf3",
   "metadata": {},
   "outputs": [
    {
     "name": "stdout",
     "output_type": "stream",
     "text": [
      "ENOB according to CNES formula: 11.503164326832401\n",
      "ENOB according to IRAP formula: 11.343695888294198\n"
     ]
    }
   ],
   "source": [
    "import math\n",
    "NSD = 27e-9\n",
    "Vpp=0.48\n",
    "SBW=6.25e6\n",
    "FS=125e6\n",
    "ENOB_CNES = 1/6.02*(20*math.log10(Vpp/NSD)-10.8-10*math.log10(SBW/2))\n",
    "ENOB_IRAP = 1/6.02*(20*math.log10(Vpp/NSD)-1.76-10*math.log10(FS/4))\n",
    "print(\"ENOB according to CNES formula: \"+str(ENOB_CNES))\n",
    "print(\"ENOB according to IRAP formula: \"+str(ENOB_IRAP))"
   ]
  },
  {
   "cell_type": "code",
   "execution_count": null,
   "id": "2613a600-ac7e-4d3b-8c4c-62d66c3dbeb8",
   "metadata": {},
   "outputs": [],
   "source": []
  }
 ],
 "metadata": {
  "kernelspec": {
   "display_name": "Python 3.9.13 ('base')",
   "language": "python",
   "name": "python3"
  },
  "language_info": {
   "codemirror_mode": {
    "name": "ipython",
    "version": 3
   },
   "file_extension": ".py",
   "mimetype": "text/x-python",
   "name": "python",
   "nbconvert_exporter": "python",
   "pygments_lexer": "ipython3",
   "version": "3.9.13"
  },
  "vscode": {
   "interpreter": {
    "hash": "c4aea60f2cbe4e41401a90d791d10ab854e973ec2c65e5aec142ecec4e76c56b"
   }
  }
 },
 "nbformat": 4,
 "nbformat_minor": 5
}
